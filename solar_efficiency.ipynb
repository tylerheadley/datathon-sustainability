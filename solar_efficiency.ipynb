{
 "cells": [
  {
   "cell_type": "code",
   "execution_count": 4,
   "id": "b79fa374",
   "metadata": {},
   "outputs": [],
   "source": [
    "import pandas as pd\n",
    "import numpy as np\n",
    "import matplotlib.pyplot as plt\n",
    "import seaborn as sns"
   ]
  },
  {
   "cell_type": "code",
   "execution_count": 5,
   "id": "f5b97eb0",
   "metadata": {},
   "outputs": [
    {
     "name": "stdout",
     "output_type": "stream",
     "text": [
      "      installed_capacity_client  shortwave_radiation_h_mean  \\\n",
      "5932                      240.7                   30.833333   \n",
      "5933                      240.7                   30.833333   \n",
      "6054                      240.7                   20.000000   \n",
      "6055                      240.7                   20.000000   \n",
      "6618                       72.2                   12.000000   \n",
      "6619                       72.2                   12.000000   \n",
      "6640                       50.5                    6.777778   \n",
      "6641                       50.5                    6.777778   \n",
      "6650                       83.0                   13.000000   \n",
      "6651                       83.0                   13.000000   \n",
      "\n",
      "      direct_solar_radiation_h_mean  ideal_efficiency  \n",
      "5932                      24.083333          4.383005  \n",
      "5933                      24.083333          4.383005  \n",
      "6054                      14.750000          6.926619  \n",
      "6055                      14.750000          6.926619  \n",
      "6618                       3.750000          4.584127  \n",
      "6619                       3.750000          4.584127  \n",
      "6640                       2.000000          5.753165  \n",
      "6641                       2.000000          5.753165  \n",
      "6650                       4.000000          4.882353  \n",
      "6651                       4.000000          4.882353  \n"
     ]
    }
   ],
   "source": [
    "train_features = pd.read_csv('train_features.csv')\n",
    "residential = train_features[train_features.is_business == 0]\n",
    "residential = residential[residential['direct_solar_radiation_h_mean'] > 0]\n",
    "residential['ideal_efficiency'] = (residential['installed_capacity_client'] ) / (residential['direct_solar_radiation_h_mean'] + residential['shortwave_radiation_h_mean'])\n",
    "\n",
    "\n",
    "residential = residential[residential['ideal_efficiency'].notna()]\n",
    "residential = residential[residential['ideal_efficiency'] < 8]\n",
    "print(residential[['installed_capacity_client', 'shortwave_radiation_h_mean', 'direct_solar_radiation_h_mean', 'ideal_efficiency']].head(10))\n"
   ]
  },
  {
   "cell_type": "code",
   "execution_count": null,
   "id": "d6833310",
   "metadata": {},
   "outputs": [],
   "source": []
  },
  {
   "cell_type": "code",
   "execution_count": null,
   "id": "c572f646",
   "metadata": {},
   "outputs": [],
   "source": [
    "# visualize the data\n",
    "sns.color_palette(\"viridis\", as_cmap=True)"
   ]
  }
 ],
 "metadata": {
  "kernelspec": {
   "display_name": "Python 3",
   "language": "python",
   "name": "python3"
  },
  "language_info": {
   "codemirror_mode": {
    "name": "ipython",
    "version": 3
   },
   "file_extension": ".py",
   "mimetype": "text/x-python",
   "name": "python",
   "nbconvert_exporter": "python",
   "pygments_lexer": "ipython3",
   "version": "3.10.12"
  }
 },
 "nbformat": 4,
 "nbformat_minor": 5
}
